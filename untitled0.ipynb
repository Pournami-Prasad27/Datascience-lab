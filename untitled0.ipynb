{
  "nbformat": 4,
  "nbformat_minor": 0,
  "metadata": {
    "colab": {
      "provenance": [],
      "authorship_tag": "ABX9TyPD537kliqiSgHFI996cGv7",
      "include_colab_link": true
    },
    "kernelspec": {
      "name": "python3",
      "display_name": "Python 3"
    },
    "language_info": {
      "name": "python"
    }
  },
  "cells": [
    {
      "cell_type": "markdown",
      "metadata": {
        "id": "view-in-github",
        "colab_type": "text"
      },
      "source": [
        "<a href=\"https://colab.research.google.com/github/Pournami-Prasad27/Datascience-lab/blob/main/untitled0.ipynb\" target=\"_parent\"><img src=\"https://colab.research.google.com/assets/colab-badge.svg\" alt=\"Open In Colab\"/></a>"
      ]
    },
    {
      "cell_type": "code",
      "source": [],
      "metadata": {
        "id": "bgiNSCYkzSk4"
      },
      "execution_count": null,
      "outputs": []
    },
    {
      "cell_type": "code",
      "source": [
        "import numpy as np\n",
        "a=np.array([1,2,3])\n",
        "print(\"one dimensional array a=\",a)\n",
        "b=np.array([[1,2,3],[4,5,6]])\n",
        "print(\"two dimensional array b=\",b)\n",
        "print(\"size of the array:\",a.shape)\n",
        "print (\"element at the indices 0,1,2:\",a[0],a[1],a[2])\n",
        "a[0]=5\n",
        "print(\"array after changing:\",a)\n",
        "a=np.zeros((2,2))\n",
        "print(\"all the elements are 0\",a)\n",
        "b=np.ones((1,2))\n",
        "print(\"an array  of all ones:\",b)\n",
        "c=np.full(2,2)\n",
        "print(\" constant array:\",c)\n",
        "d=np.eye(2)\n",
        "print(\"a 2*2 identity matrix:\",d)\n",
        "e=np.random.random((2,2))\n",
        "print(\"an array with andom values:\",e)"
      ],
      "metadata": {
        "colab": {
          "base_uri": "https://localhost:8080/"
        },
        "id": "hFjXLcFQzVcx",
        "outputId": "776ef71c-5d44-4c89-e0e6-d80bd4460c45"
      },
      "execution_count": null,
      "outputs": [
        {
          "output_type": "stream",
          "name": "stdout",
          "text": [
            "one dimensional array a= [1 2 3]\n",
            "two dimensional array b= [[1 2 3]\n",
            " [4 5 6]]\n",
            "size of the array: (3,)\n",
            "element at the indices 0,1,2: 1 2 3\n",
            "array after changing: [5 2 3]\n",
            "all the elements are 0 [[0. 0.]\n",
            " [0. 0.]]\n",
            "an array  of all ones: [[1. 1.]]\n",
            " constant array: [2 2]\n",
            "a 2*2 identity matrix: [[1. 0.]\n",
            " [0. 1.]]\n",
            "an array with andom values: [[0.41635707 0.74279606]\n",
            " [0.13743272 0.7805516 ]]\n"
          ]
        }
      ]
    },
    {
      "cell_type": "code",
      "source": [
        "import numpy as np\n",
        "x = np.array([[1,2],[3,4]], dtype =np.float64)\n",
        "y = np.array([[6,9],[4,4]],dtype =np.float64)\n",
        "print(\"x=\",x)\n",
        "print(\"y=\",y)\n",
        "print(\"element wise assition :\",np.add(x,x))\n",
        "print(\"element wise subtraction :\",np.subtract(x,y))\n",
        "print(\"element wise multiplication :\",np.multiply(x,y))\n",
        "print(\"element wise square root:\",np.sqrt(x))\n",
        "print(\"matrix multiplication :\",np.dot(x,y))\n",
        "print(\"sum of elements of matrix x:\",np.sum(x))\n",
        "print(\"sum of elements in each column of matrix y :\",np.sum(y,axis=0))\n",
        "print(\"sum of elements in each row of matrix y :\",np.sum(y,axis=1))\n",
        "print(\"Transpose of x :,x.T\")"
      ],
      "metadata": {
        "colab": {
          "base_uri": "https://localhost:8080/"
        },
        "id": "cnHZzD4Pzjky",
        "outputId": "1092a5ac-93f9-4a16-802b-6438c9a60fc8"
      },
      "execution_count": null,
      "outputs": [
        {
          "output_type": "stream",
          "name": "stdout",
          "text": [
            "x= [[1. 2.]\n",
            " [3. 4.]]\n",
            "y= [[6. 9.]\n",
            " [4. 4.]]\n",
            "element wise assition : [[2. 4.]\n",
            " [6. 8.]]\n",
            "element wise subtraction : [[-5. -7.]\n",
            " [-1.  0.]]\n",
            "element wise multiplication : [[ 6. 18.]\n",
            " [12. 16.]]\n",
            "element wise square root: [[1.         1.41421356]\n",
            " [1.73205081 2.        ]]\n",
            "matrix multiplication : [[14. 17.]\n",
            " [34. 43.]]\n",
            "sum of elements of matrix x: 10.0\n",
            "sum of elements in each column of matrix y : [10. 13.]\n",
            "sum of elements in each row of matrix y : [15.  8.]\n",
            "Transpose of x :,x.T\n"
          ]
        }
      ]
    },
    {
      "cell_type": "code",
      "source": [
        "import numpy as np\n",
        "print(\"example for broadcasting:\")\n",
        "v=np.array([1,2,3])\n",
        "w=np.array([4,5])\n",
        "print(\"v=\",v)\n",
        "print(\"w=\",w)\n",
        "print(\"outer product of abve vectors:\")\n",
        "print(np.reshape(v,(3,1))*w)\n",
        "x=np.array([[1,2,3],[4,5,6]])\n",
        "print(\"x=\",x)\n",
        "print(\"resultant matrix after adding the vector x to each row of matrix v:\")\n",
        "print(x+v)\n",
        "print(\"example for broadcasting fails:\")\n",
        "print(\"adding the vector x to each column of marix w will generate an error \")\n",
        "print(\"solution:reshape the matrix w then the  result will be:\")\n",
        "print(x+np.reshape(w,(2,1)))"
      ],
      "metadata": {
        "colab": {
          "base_uri": "https://localhost:8080/"
        },
        "id": "xnE-Gicczy8J",
        "outputId": "fa27db0c-65bf-49b1-99d9-1113ce0f9cd6"
      },
      "execution_count": null,
      "outputs": [
        {
          "output_type": "stream",
          "name": "stdout",
          "text": [
            "example for broadcasting:\n",
            "v= [1 2 3]\n",
            "w= [4 5]\n",
            "outer product of abve vectors:\n",
            "[[ 4  5]\n",
            " [ 8 10]\n",
            " [12 15]]\n",
            "x= [[1 2 3]\n",
            " [4 5 6]]\n",
            "resultant matrix after adding the vector x to each row of matrix v:\n",
            "[[2 4 6]\n",
            " [5 7 9]]\n",
            "example for broadcasting fails:\n",
            "adding the vector x to each column of marix w will generate an error \n",
            "solution:reshape the matrix w then the  result will be:\n",
            "[[ 5  6  7]\n",
            " [ 9 10 11]]\n"
          ]
        }
      ]
    },
    {
      "cell_type": "code",
      "source": [
        "import numpy as np\n",
        "print(\"Array indexing: slicing\")\n",
        "\n",
        "a1 = np.array([[1,2,3,4], [5,6,7,8], [9,10,11,12]])\n",
        "\n",
        "print(\"a1 = \",a1)\n",
        "\n",
        "b = a1[:2, 1:3]\n",
        "print(\"Subarray consisting of first two rows and columns 1 and 2: \",b)\n",
        "\n",
        "b=a1[1:2,:]\n",
        "\n",
        "print(\"Subarray consists of second row: \",b)\n",
        "print(\"Accessing columns: \")\n",
        "\n",
        "b=a1[:,1]\n",
        "\n",
        "print(b,b.shape)\n",
        "\n",
        "c=a1[:,1:2]\n",
        "\n",
        "print(c,c.shape)\n",
        "print(\"Array integer indexing: \")\n",
        "\n",
        "a2 = np.array([[1,2], [3, 4], [5, 6]])\n",
        "\n",
        "print(\"a2 = \",a2)\n",
        "\n",
        "print(\"Example of array integer indexing: \",a2[[0, 1, 2], [0, 1, 0]])\n",
        "\n",
        "# When using integer array indexing, you can reuse the same element from the source\n",
        "\n",
        "#array\n",
        "\n",
        "print(a2[[0, 0], [1, 1]])\n",
        "\n",
        "# Equivalent to the previous integer array indexing example print(np.array([a2[0, 1], a[0, 1]]))\n",
        "\n",
        "a3= a = np.array([[1,2,3], [4,5,6], [7,8,9], [10, 11, 12]])\n",
        "\n",
        "print(\"a3 = \",a3)\n",
        "\n",
        "# Create an array of indices\n",
        "\n",
        "b = np.array([0, 2, 0, 1])\n",
        "print(\"b = \",b)\n",
        "\n",
        "# Select one element from each row of a using the indices in b\n",
        "\n",
        "print(\"a3\",a3[np.arange(4), b]) # Mutate one element from each row of a using the indices in b\n",
        "\n",
        "a3[np.arange(4), b] += 10\n",
        "\n",
        "print(\"a3 = \",a3)\n",
        "\n",
        "print(\"Boolean array indexing: \")\n",
        "\n",
        "a = np.array([[1,2], [3, 4], [5, 6]])\n",
        "\n",
        "print(\"a = \",a)\n",
        "\n",
        "bool_idx= (a > 2)\n",
        "\n",
        "print(\"Elements greater than 2: \",a[bool_idx])"
      ],
      "metadata": {
        "colab": {
          "base_uri": "https://localhost:8080/"
        },
        "id": "ps_eUHVQ10NI",
        "outputId": "4a5434ec-e29e-45c0-9f60-c98dbdf853f4"
      },
      "execution_count": null,
      "outputs": [
        {
          "output_type": "stream",
          "name": "stdout",
          "text": [
            "Array indexing: slicing\n",
            "a1 =  [[ 1  2  3  4]\n",
            " [ 5  6  7  8]\n",
            " [ 9 10 11 12]]\n",
            "Subarray consisting of first two rows and columns 1 and 2:  [[2 3]\n",
            " [6 7]]\n",
            "Subarray consists of second row:  [[5 6 7 8]]\n",
            "Accessing columns: \n",
            "[ 2  6 10] (3,)\n",
            "[[ 2]\n",
            " [ 6]\n",
            " [10]] (3, 1)\n",
            "Array integer indexing: \n",
            "a2 =  [[1 2]\n",
            " [3 4]\n",
            " [5 6]]\n",
            "Example of array integer indexing:  [1 4 5]\n",
            "[2 2]\n",
            "a3 =  [[ 1  2  3]\n",
            " [ 4  5  6]\n",
            " [ 7  8  9]\n",
            " [10 11 12]]\n",
            "b =  [0 2 0 1]\n",
            "a3 [ 1  6  7 11]\n",
            "a3 =  [[11  2  3]\n",
            " [ 4  5 16]\n",
            " [17  8  9]\n",
            " [10 21 12]]\n",
            "Boolean array indexing: \n",
            "a =  [[1 2]\n",
            " [3 4]\n",
            " [5 6]]\n",
            "Elements greater than 2:  [3 4 5 6]\n"
          ]
        }
      ]
    },
    {
      "cell_type": "code",
      "source": [
        "from numpy import array\n",
        "from scipy.linalg import svd\n",
        "# define a matrix\n",
        "A = array([[1, 2], [3, 4], [5, 6]])\n",
        "print(\"A=\",A)\n",
        "print(\"Shape of array A: \",A.shape)\n",
        "print(\"\")\n",
        "U, s, VT = svd (A)# SVD\n",
        "print(\"U = \",U)\n",
        "print(\"Shape of matrix U: \",U.shape)\n",
        "print(\"\")\n",
        "print(\"Sigma (diagonal matrix), s = \",s)\n",
        "print(\"Shape of matrix sigma : \",s.shape)\n",
        "print(\"\")\n",
        "print(\"Transpose Matrix, VT = \",VT)\n",
        "print(\"Shape of matrix VT: \",VT.shape)"
      ],
      "metadata": {
        "colab": {
          "base_uri": "https://localhost:8080/"
        },
        "id": "iJgIJx9b2HZg",
        "outputId": "1d3cd62d-fd33-471b-956b-2aaf169720d6"
      },
      "execution_count": null,
      "outputs": [
        {
          "output_type": "stream",
          "name": "stdout",
          "text": [
            "A= [[1 2]\n",
            " [3 4]\n",
            " [5 6]]\n",
            "Shape of array A:  (3, 2)\n",
            "\n",
            "U =  [[-0.2298477   0.88346102  0.40824829]\n",
            " [-0.52474482  0.24078249 -0.81649658]\n",
            " [-0.81964194 -0.40189603  0.40824829]]\n",
            "Shape of matrix U:  (3, 3)\n",
            "\n",
            "Sigma (diagonal matrix), s =  [9.52551809 0.51430058]\n",
            "Shape of matrix sigma :  (2,)\n",
            "\n",
            "Transpose Matrix, VT =  [[-0.61962948 -0.78489445]\n",
            " [-0.78489445  0.61962948]]\n",
            "Shape of matrix VT:  (2, 2)\n"
          ]
        }
      ]
    },
    {
      "cell_type": "code",
      "source": [
        "from numpy import array, diag, dot, zeros\n",
        "from scipy.linalg import svd\n",
        "\n",
        "A = array([[1, 2], [3, 4], [5, 6]])\n",
        "print(\"A = \", A)\n",
        "print(A.shape)\n",
        "\n",
        "U, s, VT = svd(A)\n",
        "print(\"U =\", U)\n",
        "print(U.shape)\n",
        "print(\"s = \", s)\n",
        "print(s.shape)\n",
        "print(\"VT = \", VT)\n",
        "print(VT.shape)\n",
        "\n",
        "sigma = zeros((A.shape[0], A.shape[1]))\n",
        "sigma[:A.shape[1], :A.shape[1]] = diag(s)\n",
        "B = U.dot(sigma.dot(VT))\n",
        "print(\"Reconstructed matrix: \", B)"
      ],
      "metadata": {
        "colab": {
          "base_uri": "https://localhost:8080/"
        },
        "id": "4iL8rjZe2WVv",
        "outputId": "d224cf73-5e62-4023-c316-bb792ad0374d"
      },
      "execution_count": null,
      "outputs": [
        {
          "output_type": "stream",
          "name": "stdout",
          "text": [
            "A =  [[1 2]\n",
            " [3 4]\n",
            " [5 6]]\n",
            "(3, 2)\n",
            "U = [[-0.2298477   0.88346102  0.40824829]\n",
            " [-0.52474482  0.24078249 -0.81649658]\n",
            " [-0.81964194 -0.40189603  0.40824829]]\n",
            "(3, 3)\n",
            "s =  [9.52551809 0.51430058]\n",
            "(2,)\n",
            "VT =  [[-0.61962948 -0.78489445]\n",
            " [-0.78489445  0.61962948]]\n",
            "(2, 2)\n",
            "Reconstructed matrix:  [[1. 2.]\n",
            " [3. 4.]\n",
            " [5. 6.]]\n"
          ]
        }
      ]
    },
    {
      "cell_type": "code",
      "source": [
        "from numpy import array, diag, zeros\n",
        "from scipy.linalg import pinv\n",
        "from numpy.linalg import svd\n",
        "\n",
        "A = array([[1, 2], [3, 4], [5, 6]])\n",
        "\n",
        "print(\"Pseudoinverse of matrix A calculated by function pinv is:\")\n",
        "print(pinv(A))\n",
        "\n",
        "U, s, VT = svd(A)\n",
        "d = 1.0 / s\n",
        "D = zeros(A.shape)\n",
        "D[:A.shape[1], :A.shape[1]] = diag(d)\n",
        "B = VT.T.dot(D.T).dot(U.T)\n",
        "\n",
        "print(\"Pseudoinverse of matrix A calculated by using svd is:\")\n",
        "print(B)"
      ],
      "metadata": {
        "colab": {
          "base_uri": "https://localhost:8080/"
        },
        "id": "F0kx9s2z2b0L",
        "outputId": "0ea8a63b-5c04-447c-a67d-b1723c5662c5"
      },
      "execution_count": null,
      "outputs": [
        {
          "output_type": "stream",
          "name": "stdout",
          "text": [
            "Pseudoinverse of matrix A calculated by function pinv is:\n",
            "[[-1.33333333 -0.33333333  0.66666667]\n",
            " [ 1.08333333  0.33333333 -0.41666667]]\n",
            "Pseudoinverse of matrix A calculated by using svd is:\n",
            "[[-1.33333333 -0.33333333  0.66666667]\n",
            " [ 1.08333333  0.33333333 -0.41666667]]\n"
          ]
        }
      ]
    }
  ]
}